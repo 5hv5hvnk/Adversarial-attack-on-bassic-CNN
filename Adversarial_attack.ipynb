{
  "nbformat": 4,
  "nbformat_minor": 0,
  "metadata": {
    "colab": {
      "name": "Adversarial_attack.ipynb",
      "provenance": []
    },
    "kernelspec": {
      "name": "python3",
      "display_name": "Python 3"
    },
    "language_info": {
      "name": "python"
    }
  },
  "cells": [
    {
      "cell_type": "code",
      "metadata": {
        "id": "7edkP88gAdh5"
      },
      "source": [
        "import tensorflow as tf\n",
        "\n",
        "from tensorflow.keras.datasets import mnist\n",
        "import numpy as np\n",
        "import random\n",
        "\n",
        "import matplotlib.pyplot as plt"
      ],
      "execution_count": 75,
      "outputs": []
    },
    {
      "cell_type": "code",
      "metadata": {
        "id": "dYSQXTOAAyck"
      },
      "source": [
        "from tensorflow.keras import Sequential\n",
        "from tensorflow.keras.callbacks import LambdaCallback\n",
        "from tensorflow.keras.layers import Conv2D, MaxPooling2D, Dropout, Dense, Flatten, Activation"
      ],
      "execution_count": 2,
      "outputs": []
    },
    {
      "cell_type": "code",
      "metadata": {
        "id": "bDODhYQ6CM5W"
      },
      "source": [
        "from tensorflow import keras"
      ],
      "execution_count": 20,
      "outputs": []
    },
    {
      "cell_type": "code",
      "metadata": {
        "colab": {
          "base_uri": "https://localhost:8080/"
        },
        "id": "sFl1T5GwAz0l",
        "outputId": "79473bc4-b840-4c4f-c0b8-14984754a217"
      },
      "source": [
        "(x_train,y_train) , (x_test, y_test) = mnist.load_data()"
      ],
      "execution_count": 3,
      "outputs": [
        {
          "output_type": "stream",
          "text": [
            "Downloading data from https://storage.googleapis.com/tensorflow/tf-keras-datasets/mnist.npz\n",
            "11493376/11490434 [==============================] - 0s 0us/step\n",
            "11501568/11490434 [==============================] - 0s 0us/step\n"
          ],
          "name": "stdout"
        }
      ]
    },
    {
      "cell_type": "code",
      "metadata": {
        "id": "WLUSnz2_HwwB"
      },
      "source": [
        "(X_train,Y_train) , (X_test, Y_test) = mnist.load_data()"
      ],
      "execution_count": 57,
      "outputs": []
    },
    {
      "cell_type": "code",
      "metadata": {
        "colab": {
          "base_uri": "https://localhost:8080/"
        },
        "id": "-VHsbCvqBLV2",
        "outputId": "087bca27-c797-41b7-dbd0-e0c7178bc25f"
      },
      "source": [
        "x_train.shape"
      ],
      "execution_count": 5,
      "outputs": [
        {
          "output_type": "execute_result",
          "data": {
            "text/plain": [
              "(60000, 28, 28)"
            ]
          },
          "metadata": {},
          "execution_count": 5
        }
      ]
    },
    {
      "cell_type": "code",
      "metadata": {
        "colab": {
          "base_uri": "https://localhost:8080/"
        },
        "id": "04KVKyiIBORK",
        "outputId": "e9c1a2cd-954e-41a1-e1bc-499e416c48c8"
      },
      "source": [
        "x_test.shape"
      ],
      "execution_count": 6,
      "outputs": [
        {
          "output_type": "execute_result",
          "data": {
            "text/plain": [
              "(10000, 28, 28)"
            ]
          },
          "metadata": {},
          "execution_count": 6
        }
      ]
    },
    {
      "cell_type": "code",
      "metadata": {
        "colab": {
          "base_uri": "https://localhost:8080/",
          "height": 282
        },
        "id": "ACd5lai8BRPw",
        "outputId": "1d107920-e13c-4e74-b6cd-1bcfb77e81fa"
      },
      "source": [
        "plt.imshow(x_train[0])"
      ],
      "execution_count": 9,
      "outputs": [
        {
          "output_type": "execute_result",
          "data": {
            "text/plain": [
              "<matplotlib.image.AxesImage at 0x7f9af9014790>"
            ]
          },
          "metadata": {},
          "execution_count": 9
        },
        {
          "output_type": "display_data",
          "data": {
            "image/png": "[encoded data removed]",
            "text/plain": [
              "<Figure size 432x288 with 1 Axes>"
            ]
          },
          "metadata": {
            "needs_background": "light"
          }
        }
      ]
    },
    {
      "cell_type": "code",
      "metadata": {
        "colab": {
          "base_uri": "https://localhost:8080/"
        },
        "id": "bp-MW6v_BTux",
        "outputId": "ba9e59dc-4ead-499e-defc-8f9b97dc6180"
      },
      "source": [
        "y_train[0]"
      ],
      "execution_count": 10,
      "outputs": [
        {
          "output_type": "execute_result",
          "data": {
            "text/plain": [
              "5"
            ]
          },
          "metadata": {},
          "execution_count": 10
        }
      ]
    },
    {
      "cell_type": "code",
      "metadata": {
        "id": "sLBlMzmWBbVR"
      },
      "source": [
        "labels = ['zero', 'one', 'two', 'three', 'four', 'five', 'six', 'seven', 'eight', 'nine']"
      ],
      "execution_count": 11,
      "outputs": []
    },
    {
      "cell_type": "code",
      "metadata": {
        "id": "t_8nF3x8BeVz"
      },
      "source": [
        "rows, cols, channels = 28, 28, 1\n",
        "classes = 10"
      ],
      "execution_count": 18,
      "outputs": []
    },
    {
      "cell_type": "code",
      "metadata": {
        "id": "J1ltxZpOBni7"
      },
      "source": [
        "x_train[0]"
      ],
      "execution_count": null,
      "outputs": []
    },
    {
      "cell_type": "code",
      "metadata": {
        "id": "Ex4R61cJBtOY"
      },
      "source": [
        "x_train = x_train/255 #normalise \n",
        "x_test = x_test/255"
      ],
      "execution_count": 15,
      "outputs": []
    },
    {
      "cell_type": "code",
      "metadata": {
        "id": "EQUGRw0MBzUT"
      },
      "source": [
        "x_train[0]"
      ],
      "execution_count": null,
      "outputs": []
    },
    {
      "cell_type": "code",
      "metadata": {
        "colab": {
          "base_uri": "https://localhost:8080/",
          "height": 282
        },
        "id": "V8Nv2CrXB0hD",
        "outputId": "feb8859d-3dea-41ca-e6e4-fa71d4c9a44f"
      },
      "source": [
        "plt.imshow(x_train[0])"
      ],
      "execution_count": 17,
      "outputs": [
        {
          "output_type": "execute_result",
          "data": {
            "text/plain": [
              "<matplotlib.image.AxesImage at 0x7f9af8fe18d0>"
            ]
          },
          "metadata": {},
          "execution_count": 17
        },
        {
          "output_type": "display_data",
          "data": {
            "image/png": "[encoded data removed]",
            "text/plain": [
              "<Figure size 432x288 with 1 Axes>"
            ]
          },
          "metadata": {
            "needs_background": "light"
          }
        }
      ]
    },
    {
      "cell_type": "code",
      "metadata": {
        "id": "TZS2CmRRB6vY"
      },
      "source": [
        "x_train = x_train.reshape((-1, rows, cols, channels))\n",
        "x_test = x_test.reshape((-1, rows, cols, channels))"
      ],
      "execution_count": 19,
      "outputs": []
    },
    {
      "cell_type": "code",
      "metadata": {
        "id": "NI4GBj0cCHB1"
      },
      "source": [
        "y_train = keras.utils.to_categorical(y_train, classes) #one hot encoding lables\n",
        "y_test = keras.utils.to_categorical(y_test, classes)"
      ],
      "execution_count": 21,
      "outputs": []
    },
    {
      "cell_type": "code",
      "metadata": {
        "colab": {
          "base_uri": "https://localhost:8080/"
        },
        "id": "02mGQ9bwDTRP",
        "outputId": "9bbd15a1-2217-456d-9041-005cc4325da0"
      },
      "source": [
        "x_train.shape"
      ],
      "execution_count": 24,
      "outputs": [
        {
          "output_type": "execute_result",
          "data": {
            "text/plain": [
              "(60000, 28, 28, 1)"
            ]
          },
          "metadata": {},
          "execution_count": 24
        }
      ]
    },
    {
      "cell_type": "code",
      "metadata": {
        "colab": {
          "base_uri": "https://localhost:8080/"
        },
        "id": "QBxZXEMXCg3v",
        "outputId": "5eb75282-6723-4055-b502-cf5b30d8a4d3"
      },
      "source": [
        "y_train.shape"
      ],
      "execution_count": 22,
      "outputs": [
        {
          "output_type": "execute_result",
          "data": {
            "text/plain": [
              "(60000, 10)"
            ]
          },
          "metadata": {},
          "execution_count": 22
        }
      ]
    },
    {
      "cell_type": "code",
      "metadata": {
        "colab": {
          "base_uri": "https://localhost:8080/"
        },
        "id": "OJaqP63vCiej",
        "outputId": "36b44e59-bbbf-416f-f699-6c4b56f9eea3"
      },
      "source": [
        "y_train[0]"
      ],
      "execution_count": 23,
      "outputs": [
        {
          "output_type": "execute_result",
          "data": {
            "text/plain": [
              "array([0., 0., 0., 0., 0., 1., 0., 0., 0., 0.], dtype=float32)"
            ]
          },
          "metadata": {},
          "execution_count": 23
        }
      ]
    },
    {
      "cell_type": "code",
      "metadata": {
        "id": "NvmQjJAPCkjD"
      },
      "source": [
        "def create_model():\n",
        "    model = Sequential()\n",
        "    model.add(Conv2D(32, kernel_size=(3, 3), strides=(3, 3), padding='same', activation='relu', input_shape=(28, 28, 1)))\n",
        "    model.add(Conv2D(64, kernel_size=(3, 3), strides=(3, 3), padding='same', activation='relu'))\n",
        "    model.add(Conv2D(64, kernel_size=(3, 3), strides=(3, 3), padding='same', activation='relu'))\n",
        "    model.add(MaxPooling2D(pool_size=(2, 2)))\n",
        "    model.add(Dropout(0.2))\n",
        "    model.add(Flatten())\n",
        "    model.add(Dense(32))\n",
        "    model.add(Dropout(0.2))\n",
        "    model.add(Dense(32))\n",
        "    model.add(Dropout(0.2))\n",
        "    model.add(Dense(classes, activation='softmax'))\n",
        "\n",
        "    model.compile(optimizer='adam', loss='mse', metrics=['accuracy'])\n",
        "    \n",
        "    return model"
      ],
      "execution_count": 27,
      "outputs": []
    },
    {
      "cell_type": "code",
      "metadata": {
        "id": "3qbVYIbnDaoY"
      },
      "source": [
        "model = create_model()"
      ],
      "execution_count": 28,
      "outputs": []
    },
    {
      "cell_type": "code",
      "metadata": {
        "colab": {
          "base_uri": "https://localhost:8080/"
        },
        "id": "qgLick4bDbji",
        "outputId": "f0aa5d9f-2d52-44b5-e39b-7863a1b1f5c8"
      },
      "source": [
        "model.fit(x_train, y_train, batch_size=32, epochs=20, validation_data=(x_test, y_test))"
      ],
      "execution_count": 29,
      "outputs": [
        {
          "output_type": "stream",
          "text": [
            "Epoch 1/20\n",
            "1875/1875 [==============================] - 15s 7ms/step - loss: 0.0194 - accuracy: 0.8645 - val_loss: 0.0066 - val_accuracy: 0.9569\n",
            "Epoch 2/20\n",
            "1875/1875 [==============================] - 14s 8ms/step - loss: 0.0088 - accuracy: 0.9418 - val_loss: 0.0046 - val_accuracy: 0.9703\n",
            "Epoch 3/20\n",
            "1875/1875 [==============================] - 13s 7ms/step - loss: 0.0074 - accuracy: 0.9528 - val_loss: 0.0043 - val_accuracy: 0.9718\n",
            "Epoch 4/20\n",
            "1875/1875 [==============================] - 13s 7ms/step - loss: 0.0065 - accuracy: 0.9576 - val_loss: 0.0041 - val_accuracy: 0.9733\n",
            "Epoch 5/20\n",
            "1875/1875 [==============================] - 14s 8ms/step - loss: 0.0057 - accuracy: 0.9632 - val_loss: 0.0034 - val_accuracy: 0.9776\n",
            "Epoch 6/20\n",
            "1875/1875 [==============================] - 14s 8ms/step - loss: 0.0052 - accuracy: 0.9662 - val_loss: 0.0034 - val_accuracy: 0.9790\n",
            "Epoch 7/20\n",
            "1875/1875 [==============================] - 14s 8ms/step - loss: 0.0048 - accuracy: 0.9695 - val_loss: 0.0034 - val_accuracy: 0.9792\n",
            "Epoch 8/20\n",
            "1875/1875 [==============================] - 15s 8ms/step - loss: 0.0045 - accuracy: 0.9707 - val_loss: 0.0032 - val_accuracy: 0.9794\n",
            "Epoch 9/20\n",
            "1875/1875 [==============================] - 14s 7ms/step - loss: 0.0043 - accuracy: 0.9726 - val_loss: 0.0030 - val_accuracy: 0.9808\n",
            "Epoch 10/20\n",
            "1875/1875 [==============================] - 14s 7ms/step - loss: 0.0040 - accuracy: 0.9744 - val_loss: 0.0029 - val_accuracy: 0.9816\n",
            "Epoch 11/20\n",
            "1875/1875 [==============================] - 14s 7ms/step - loss: 0.0039 - accuracy: 0.9758 - val_loss: 0.0030 - val_accuracy: 0.9816\n",
            "Epoch 12/20\n",
            "1875/1875 [==============================] - 14s 7ms/step - loss: 0.0037 - accuracy: 0.9763 - val_loss: 0.0030 - val_accuracy: 0.9811\n",
            "Epoch 13/20\n",
            "1875/1875 [==============================] - 14s 8ms/step - loss: 0.0035 - accuracy: 0.9779 - val_loss: 0.0030 - val_accuracy: 0.9817\n",
            "Epoch 14/20\n",
            "1875/1875 [==============================] - 15s 8ms/step - loss: 0.0034 - accuracy: 0.9783 - val_loss: 0.0031 - val_accuracy: 0.9807\n",
            "Epoch 15/20\n",
            "1875/1875 [==============================] - 14s 8ms/step - loss: 0.0034 - accuracy: 0.9787 - val_loss: 0.0032 - val_accuracy: 0.9793\n",
            "Epoch 16/20\n",
            "1875/1875 [==============================] - 14s 8ms/step - loss: 0.0033 - accuracy: 0.9795 - val_loss: 0.0026 - val_accuracy: 0.9839\n",
            "Epoch 17/20\n",
            "1875/1875 [==============================] - 14s 8ms/step - loss: 0.0032 - accuracy: 0.9803 - val_loss: 0.0029 - val_accuracy: 0.9823\n",
            "Epoch 18/20\n",
            "1875/1875 [==============================] - 14s 7ms/step - loss: 0.0032 - accuracy: 0.9802 - val_loss: 0.0028 - val_accuracy: 0.9827\n",
            "Epoch 19/20\n",
            "1875/1875 [==============================] - 14s 7ms/step - loss: 0.0032 - accuracy: 0.9804 - val_loss: 0.0029 - val_accuracy: 0.9828\n",
            "Epoch 20/20\n",
            "1875/1875 [==============================] - 15s 8ms/step - loss: 0.0031 - accuracy: 0.9813 - val_loss: 0.0028 - val_accuracy: 0.9833\n"
          ],
          "name": "stdout"
        },
        {
          "output_type": "execute_result",
          "data": {
            "text/plain": [
              "<keras.callbacks.History at 0x7f9af4d56110>"
            ]
          },
          "metadata": {},
          "execution_count": 29
        }
      ]
    },
    {
      "cell_type": "code",
      "metadata": {
        "colab": {
          "base_uri": "https://localhost:8080/"
        },
        "id": "FVliPEM9E-zj",
        "outputId": "7a943b06-0ce3-4c56-904b-2b2ad8e6e545"
      },
      "source": [
        "print(\"Base accuracy:\", model.evaluate(x=x_test, y=y_test, verbose=0))"
      ],
      "execution_count": 30,
      "outputs": [
        {
          "output_type": "stream",
          "text": [
            "Base accuracy: [0.002787253586575389, 0.983299970626831]\n"
          ],
          "name": "stdout"
        }
      ]
    },
    {
      "cell_type": "markdown",
      "metadata": {
        "id": "8jD74BhVEwPC"
      },
      "source": [
        "## Testing loss  = 0.28%\n",
        "# Testing Accuracy = 98.33%"
      ]
    },
    {
      "cell_type": "code",
      "metadata": {
        "id": "e7DPYrQpDmRB"
      },
      "source": [
        "def adversarial_pattern(image, label):\n",
        "  image = tf.cast(image, tf.float32)\n",
        "  \n",
        "  with tf.GradientTape() as tape:\n",
        "        tape.watch(image)\n",
        "        prediction = model(image)\n",
        "        loss = tf.keras.losses.MSE(label, prediction)\n",
        "\n",
        "  gradient = tape.gradient(loss, image)\n",
        "  signed_grad = tf.sign(gradient)\n",
        "  return signed_grad"
      ],
      "execution_count": 50,
      "outputs": []
    },
    {
      "cell_type": "code",
      "metadata": {
        "id": "WvSTloyjGBSQ"
      },
      "source": [
        "image = x_train[0]"
      ],
      "execution_count": 44,
      "outputs": []
    },
    {
      "cell_type": "code",
      "metadata": {
        "id": "FCRUjs3IGNiA"
      },
      "source": [
        "image_label = y_train[0]"
      ],
      "execution_count": 45,
      "outputs": []
    },
    {
      "cell_type": "code",
      "metadata": {
        "id": "AASj8dgbGzku"
      },
      "source": [
        "disturbance = adversarial_pattern(image.reshape((1, img_rows, img_cols, channels)), image_label)"
      ],
      "execution_count": 51,
      "outputs": []
    },
    {
      "cell_type": "code",
      "metadata": {
        "id": "xNBf3GeQG2G6"
      },
      "source": [
        "disturbance = disturbance.numpy()"
      ],
      "execution_count": 53,
      "outputs": []
    },
    {
      "cell_type": "code",
      "metadata": {
        "id": "Hp3NjBFJL01t"
      },
      "source": [
        "adversarial = image + disturbance * 0.1"
      ],
      "execution_count": 83,
      "outputs": []
    },
    {
      "cell_type": "code",
      "metadata": {
        "colab": {
          "base_uri": "https://localhost:8080/",
          "height": 562
        },
        "id": "T__I8_FpL0-S",
        "outputId": "758694de-72d0-4d29-ccca-675094ceb6c8"
      },
      "source": [
        "if channels == 1:\n",
        "    plt.imshow(adversarial.reshape((img_rows, img_cols)))\n",
        "else:\n",
        "    plt.imshow(adversarial.reshape((img_rows, img_cols, channels)))\n",
        "plt.title(\"disturbance * 0.1\")\n",
        "plt.show()\n",
        "plt.title(\"Original\")\n",
        "plt.imshow(X_train[0])"
      ],
      "execution_count": 87,
      "outputs": [
        {
          "output_type": "display_data",
          "data": {
            "image/png": "[encoded data removed]",
            "text/plain": [
              "<Figure size 432x288 with 1 Axes>"
            ]
          },
          "metadata": {
            "needs_background": "light"
          }
        },
        {
          "output_type": "execute_result",
          "data": {
            "text/plain": [
              "<matplotlib.image.AxesImage at 0x7f9af0bd9150>"
            ]
          },
          "metadata": {},
          "execution_count": 87
        },
        {
          "output_type": "display_data",
          "data": {
            "image/png": "[encoded data removed]",
            "text/plain": [
              "<Figure size 432x288 with 1 Axes>"
            ]
          },
          "metadata": {
            "needs_background": "light"
          }
        }
      ]
    },
    {
      "cell_type": "code",
      "metadata": {
        "id": "9-auBWoYHaUB"
      },
      "source": [
        "adversarial = image + disturbance * 0.2"
      ],
      "execution_count": 76,
      "outputs": []
    },
    {
      "cell_type": "code",
      "metadata": {
        "colab": {
          "base_uri": "https://localhost:8080/",
          "height": 562
        },
        "id": "VO5LlPFoHkgn",
        "outputId": "110b9c01-2237-4dee-bac5-338e5f1d4f29"
      },
      "source": [
        "if channels == 1:\n",
        "    plt.imshow(adversarial.reshape((img_rows, img_cols)))\n",
        "else:\n",
        "    plt.imshow(adversarial.reshape((img_rows, img_cols, channels)))\n",
        "plt.title(\"disturbance * 0.2\")\n",
        "plt.show()\n",
        "plt.title(\"Original\")\n",
        "plt.imshow(X_train[0])"
      ],
      "execution_count": 86,
      "outputs": [
        {
          "output_type": "display_data",
          "data": {
            "image/png": "[encoded data removed]",
            "text/plain": [
              "<Figure size 432x288 with 1 Axes>"
            ]
          },
          "metadata": {
            "needs_background": "light"
          }
        },
        {
          "output_type": "execute_result",
          "data": {
            "text/plain": [
              "<matplotlib.image.AxesImage at 0x7f9af0d06550>"
            ]
          },
          "metadata": {},
          "execution_count": 86
        },
        {
          "output_type": "display_data",
          "data": {
            "image/png": "[encoded data removed]",
            "text/plain": [
              "<Figure size 432x288 with 1 Axes>"
            ]
          },
          "metadata": {
            "needs_background": "light"
          }
        }
      ]
    },
    {
      "cell_type": "code",
      "metadata": {
        "colab": {
          "base_uri": "https://localhost:8080/"
        },
        "id": "LAqo_l0YH-PW",
        "outputId": "46a019b8-e64c-4d7e-9a69-97cfc8e5566b"
      },
      "source": [
        "print(labels[model.predict(image.reshape((1, img_rows, img_cols, channels))).argmax()])\n",
        "print(labels[model.predict(adversarial).argmax()])"
      ],
      "execution_count": 63,
      "outputs": [
        {
          "output_type": "stream",
          "text": [
            "five\n",
            "three\n"
          ],
          "name": "stdout"
        }
      ]
    },
    {
      "cell_type": "code",
      "metadata": {
        "id": "TKegJneNIBav"
      },
      "source": [
        "def generate_adversarials(batch_size):\n",
        "    while True:\n",
        "        x = []\n",
        "        y = []\n",
        "        for batch in range(batch_size):\n",
        "            N = random.randint(0, 100)\n",
        "\n",
        "            label = y_train[N]\n",
        "            image = x_train[N]\n",
        "            \n",
        "            disturbance = adversarial_pattern(image.reshape((1, img_rows, img_cols, channels)), label)\n",
        "            disturbance = disturbance.numpy()\n",
        "    \n",
        "            adversarial = image + disturbance * 0.2\n",
        "            \n",
        "            x.append(adversarial)\n",
        "            y.append(y_train[N])\n",
        "        \n",
        "        \n",
        "        x = np.asarray(x).reshape((batch_size, img_rows, img_cols, channels))\n",
        "        y = np.asarray(y)\n",
        "        \n",
        "        yield x, y"
      ],
      "execution_count": 78,
      "outputs": []
    },
    {
      "cell_type": "code",
      "metadata": {
        "id": "yOaRQdo4JPct"
      },
      "source": [
        "x_adversarial_test, y_adversarial_test = next(generate_adversarials(10000))"
      ],
      "execution_count": 79,
      "outputs": []
    },
    {
      "cell_type": "code",
      "metadata": {
        "colab": {
          "base_uri": "https://localhost:8080/"
        },
        "id": "0wCbqUtQJSS9",
        "outputId": "a9c90fda-90d8-4097-f28e-ba419e4e539e"
      },
      "source": [
        "print(\"Accuracy on adversarial dataset:\", model.evaluate(x=x_adversarial_test, y=y_adversarial_test, verbose=0))"
      ],
      "execution_count": 80,
      "outputs": [
        {
          "output_type": "stream",
          "text": [
            "Accuracy on adversarial dataset: [0.17512360215187073, 0.04749999940395355]\n"
          ],
          "name": "stdout"
        }
      ]
    },
    {
      "cell_type": "markdown",
      "metadata": {
        "id": "ieNE4HEuKS1k"
      },
      "source": [
        "# Accuracy reduced from 98.33% to 34.11% by adding 10% of noise\n",
        "# it dropped to 4% when we doubled the noise in the image"
      ]
    },
    {
      "cell_type": "code",
      "metadata": {
        "id": "bGOScPCsJl1a"
      },
      "source": [
        ""
      ],
      "execution_count": null,
      "outputs": []
    }
  ]
}